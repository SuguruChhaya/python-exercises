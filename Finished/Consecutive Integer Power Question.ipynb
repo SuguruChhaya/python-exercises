{
 "cells": [
  {
   "cell_type": "code",
   "execution_count": 5,
   "metadata": {},
   "outputs": [
    {
     "output_type": "stream",
     "name": "stdout",
     "text": "The smallest possible average of this series is: 4232 \nThe base to the ^4 is: 46\nThe sum of the series is: 4477456\n"
    }
   ],
   "source": [
    "def is_multiple(number, factor):\n",
    "    \"\"\"This is a helper function for the next function.\n",
    "    \"\"\"\n",
    "    return number % factor == 0\n",
    "\n",
    "def prime_factor(number):\n",
    "    \"\"\"This is a helper function which produces a list of the number common factored.\n",
    "    \"\"\"\n",
    "    counter = 2\n",
    "    factored_list = []\n",
    "    while counter <= number:\n",
    "        if is_multiple(number, counter) == True:\n",
    "            number = number / counter\n",
    "            factored_list = factored_list + [counter]\n",
    "        elif is_multiple(number, counter) == False:\n",
    "            counter = counter + 1\n",
    "    return factored_list\n",
    "\n",
    "def dictionary(factored_list):\n",
    "    count = {}\n",
    "    for item in factored_list:\n",
    "        if item in count.keys():\n",
    "            count[item] = count[item] + 1\n",
    "        else:\n",
    "            count[item] = 1\n",
    "    return count\n",
    "\n",
    "\n",
    "def processing(factored_list, exponent):\n",
    "    counter = 1\n",
    "    for key, value in factored_list.items():\n",
    "        if is_multiple(value, exponent) == False:\n",
    "            counter = counter * key ** (abs(value - exponent))\n",
    "    return counter\n",
    "\n",
    "def consecutive_integer_power_question(number_of_series, exponent):\n",
    "    \"\"\"This question is from the Grade 10 Spirit of Math Cerebral Contortions #2 question 10. The question is:\n",
    "    A series of 10584(number_of_series) integers has a sum that is a perfect cube(exponent). What is the smallest possible average of these series?\n",
    "    Variables:\n",
    "    number_of_series: nonnegative integer\n",
    "    exponent: nonnegative integer\n",
    "    \"\"\"\n",
    "    a = prime_factor(number_of_series)\n",
    "    b = dictionary(a)\n",
    "    c = processing(b, exponent)\n",
    "    d = int(round((c * number_of_series) ** (1/exponent), 0))\n",
    "    e = d ** exponent\n",
    "    return \"The smallest possible average of this series is: \" + str(c) + \" \\nThe base to the ^\" + str(exponent) + \" is: \" +  str(d) + \"\\nThe sum of the series is: \" + str(e)\n",
    "\n",
    "print(consecutive_integer_power_question(1058, 4))"
   ]
  }
 ],
 "metadata": {
  "kernelspec": {
   "display_name": "Python 3",
   "language": "python",
   "name": "python3"
  },
  "language_info": {
   "codemirror_mode": {
    "name": "ipython",
    "version": 3
   },
   "file_extension": ".py",
   "mimetype": "text/x-python",
   "name": "python",
   "nbconvert_exporter": "python",
   "pygments_lexer": "ipython3",
   "version": "3.8.2-final"
  },
  "toc": {
   "base_numbering": 1,
   "nav_menu": {},
   "number_sections": true,
   "sideBar": true,
   "skip_h1_title": false,
   "title_cell": "Table of Contents",
   "title_sidebar": "Contents",
   "toc_cell": false,
   "toc_position": {},
   "toc_section_display": true,
   "toc_window_display": false
  },
  "varInspector": {
   "cols": {
    "lenName": 16,
    "lenType": 16,
    "lenVar": 40
   },
   "kernels_config": {
    "python": {
     "delete_cmd_postfix": "",
     "delete_cmd_prefix": "del ",
     "library": "var_list.py",
     "varRefreshCmd": "print(var_dic_list())"
    },
    "r": {
     "delete_cmd_postfix": ") ",
     "delete_cmd_prefix": "rm(",
     "library": "var_list.r",
     "varRefreshCmd": "cat(var_dic_list()) "
    }
   },
   "types_to_exclude": [
    "module",
    "function",
    "builtin_function_or_method",
    "instance",
    "_Feature"
   ],
   "window_display": false
  }
 },
 "nbformat": 4,
 "nbformat_minor": 4
}