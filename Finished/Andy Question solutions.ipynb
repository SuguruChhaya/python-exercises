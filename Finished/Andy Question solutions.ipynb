{
 "cells": [
  {
   "cell_type": "markdown",
   "metadata": {},
   "source": [
    "Question 50"
   ]
  },
  {
   "cell_type": "code",
   "execution_count": 257,
   "metadata": {},
   "outputs": [
    {
     "output_type": "stream",
     "name": "stdout",
     "text": "Number of real roots: 1\nReal roots = -1.0\n"
    }
   ],
   "source": [
    "#Question 50\n",
    "import math\n",
    "def plus(a,b,c):\n",
    "    return ((-b + math.sqrt((b ** 2) - 4 * a * c)) / 2 * a)\n",
    "\n",
    "\n",
    "def minus(a,b,c):\n",
    "    return ((-b - math.sqrt((b ** 2) - 4 * a * c)) / 2 * a)\n",
    "\n",
    "a = float(input(\"a value: \"))\n",
    "b = float(input(\"b value: \"))\n",
    "c = float(input(\"c value: \"))\n",
    "\n",
    "if (b ** 2 - 4 * a * c) > 0:\n",
    "    print (\"Number of real roots: 2\\n\" + \"Real roots = \" + str(plus(a,b,c)) + \", \" + str(minus(a,b,c)))\n",
    "\n",
    "elif (b ** 2 - 4 * a * c) == 0:\n",
    "    print (\"Number of real roots: 1\\n\" + \"Real roots = \" + str(plus(a,b,c)))\n",
    "\n",
    "elif (b ** 2 - 4 * a * c) < 0:\n",
    "    print (\"Number of real roots: 0\")\n",
    "\n",
    "\n"
   ]
  },
  {
   "cell_type": "code",
   "execution_count": null,
   "metadata": {},
   "outputs": [],
   "source": []
  },
  {
   "cell_type": "markdown",
   "metadata": {},
   "source": [
    "Question 60"
   ]
  },
  {
   "cell_type": "code",
   "execution_count": 248,
   "metadata": {},
   "outputs": [
    {
     "output_type": "stream",
     "name": "stdout",
     "text": "Pay 26\nPay Black\nPay Even\nPay 19 to 36\n"
    }
   ],
   "source": [
    "#Question 60\n",
    "import random\n",
    "\n",
    "#I think the question didn't want you to make a list manually, I used a for loop.\n",
    "list_colours= [\"0\", \"00\"]\n",
    "for item in range(1,37):\n",
    "     list_colours= list_colours + [str(item)]\n",
    "\n",
    "roll = random.choice(list_colours)\n",
    "\n",
    "if int(roll) % 2 == 0:\n",
    "    odd_or_even = \"Pay Even\"\n",
    "else:\n",
    "    odd_or_even = \"Pay Odd\"\n",
    "\n",
    "if int(roll) in range(1,19):\n",
    "    number_range = \"Pay 1 to 18\"\n",
    "\n",
    "else:\n",
    "    number_range = \"Pay 19 to 36\"\n",
    "\n",
    "if roll in [\"1\",\"3\",\"5\",\"7\",\"9\",\"12\",\"14\",\"16\",\"18\",\"19\",\"21\",\"23\",\"25\",\"27\",\"30\",\"32\",\"34\",\"36\"]:\n",
    "    print(f\"Pay {roll}\\nPay Red\\n{odd_or_even}\\n{number_range}\")\n",
    "\n",
    "elif roll == \"0\" or roll ==\"00\":\n",
    "    print(f\"Pay {roll}\")\n",
    "\n",
    "else:\n",
    "    print(f\"Pay {roll}\\nPay Black\\n{odd_or_even}\\n{number_range}\")"
   ]
  },
  {
   "cell_type": "markdown",
   "metadata": {},
   "source": [
    "Question 45"
   ]
  },
  {
   "cell_type": "code",
   "execution_count": 256,
   "metadata": {},
   "outputs": [
    {
     "output_type": "stream",
     "name": "stdout",
     "text": "Black\n"
    }
   ],
   "source": [
    "#Question 45\n",
    "position = input(\"Position: \")\n",
    "if position[0] == \"a\" or position[0] == \"c\" or position[0] == \"e\" or position[0] == \"g\":\n",
    "    if int(position[1]) % 2 == 0:\n",
    "        print(\"White\")\n",
    "    else:\n",
    "        print(\"Black\")\n",
    "else:\n",
    "    if int(position[1]) % 2 == 0:\n",
    "        print(\"Black\")\n",
    "    else:\n",
    "        print(\"White\")"
   ]
  },
  {
   "cell_type": "markdown",
   "metadata": {},
   "source": [
    "Question 38"
   ]
  },
  {
   "cell_type": "code",
   "execution_count": 266,
   "metadata": {},
   "outputs": [
    {
     "output_type": "stream",
     "name": "stdout",
     "text": "31 days\n"
    }
   ],
   "source": [
    "#Question 38\n",
    "#Since this question is too easy using if statements, I used lists (plus it makes code even shorter). I could add error checking but why should I?\n",
    "month_input = input(\"Month: \")\n",
    "month = [\"January\",\"February\",\"March\",\"April\",\"May\",\"June\",\"July\",\"August\",\"September\",\"November\",\"December\"]\n",
    "days = [\"31 days\",\"28 or 29 days\",\"31 days\",\"30 days\",\"31 days\",\"30 days\",\"31 days\",\"31 days\",\"30 days\",\"31 days\",\"30 days\",\"31 days\",]\n",
    "print(days[month.index(month_input)])"
   ]
  },
  {
   "cell_type": "code",
   "execution_count": null,
   "metadata": {},
   "outputs": [],
   "source": []
  }
 ],
 "metadata": {
  "language_info": {
   "codemirror_mode": {
    "name": "ipython",
    "version": 3
   },
   "file_extension": ".py",
   "mimetype": "text/x-python",
   "name": "python",
   "nbconvert_exporter": "python",
   "pygments_lexer": "ipython3",
   "version": "3.8.2-final"
  },
  "orig_nbformat": 2,
  "kernelspec": {
   "name": "python38264bit42955fb24f764d5189866005ee800e05",
   "display_name": "Python 3.8.2 64-bit"
  }
 },
 "nbformat": 4,
 "nbformat_minor": 2
}