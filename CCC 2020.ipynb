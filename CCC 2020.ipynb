{
 "cells": [
  {
   "cell_type": "code",
   "execution_count": 2,
   "metadata": {},
   "outputs": [
    {
     "name": "stdout",
     "output_type": "stream",
     "text": [
      "Number of small treats: 4\n",
      "Number of medium treats: 3\n",
      "Number of large treats: 2\n",
      "happy\n"
     ]
    }
   ],
   "source": [
    "def happy_or_not(S, M, L):\n",
    "    if 1 * S + 2 * M + 3 * L >= 10:\n",
    "        return \"happy\"\n",
    "    else:\n",
    "        return \"sad\"\n",
    "\n",
    "\n",
    "S = int(input(\"Number of small treats: \"))\n",
    "M = int(input(\"Number of medium treats: \"))\n",
    "L = int(input(\"Number of large treats: \"))\n",
    "print(happy_or_not(S,M,L))"
   ]
  },
  {
   "cell_type": "code",
   "execution_count": 3,
   "metadata": {},
   "outputs": [
    {
     "name": "stdout",
     "output_type": "stream",
     "text": [
      "Population: 4\n",
      "Number of day 0 infectants: 3\n",
      "Number of people 1 person infects on the next day: 2\n",
      "1\n"
     ]
    }
   ],
   "source": [
    "#2 Epidemiology\n",
    "def number_of_days(P, N, R):\n",
    "    counter = 1\n",
    "    new = N\n",
    "    while new < P:\n",
    "        new = new + R ** counter\n",
    "        counter = counter + 1\n",
    "    return counter - 1\n",
    "\n",
    "P = int(input(\"Population: \"))\n",
    "N = int(input(\"Number of day 0 infectants: \"))\n",
    "R = int(input(\"Number of people 1 person infects on the next day: \"))\n",
    "print(number_of_days(P, N, R))"
   ]
  },
  {
   "cell_type": "code",
   "execution_count": 4,
   "metadata": {},
   "outputs": [
    {
     "ename": "SyntaxError",
     "evalue": "invalid syntax (<ipython-input-4-2f1fed3eb8fc>, line 10)",
     "output_type": "error",
     "traceback": [
      "\u001b[1;36m  File \u001b[1;32m\"<ipython-input-4-2f1fed3eb8fc>\"\u001b[1;36m, line \u001b[1;32m10\u001b[0m\n\u001b[1;33m    seq = seq + [c] + [d]\u001b[0m\n\u001b[1;37m      ^\u001b[0m\n\u001b[1;31mSyntaxError\u001b[0m\u001b[1;31m:\u001b[0m invalid syntax\n"
     ]
    }
   ],
   "source": [
    "def list_maker():\n",
    "    a = int(input(\"Number of coordinates:\"))\n",
    "    counter = 1\n",
    "    seq = []\n",
    "    while counter <= a:\n",
    "        b = [int(input()) + \",\"\n",
    " \n",
    "\n",
    "        #Apparantly you have to use index -1 to specify the last number\n",
    "        seq = seq + [c] + [d]\n",
    "        counter = counter + 1\n",
    "    return seq\n",
    "\n",
    "\n",
    "\n",
    "\n",
    "print(list_maker())"
   ]
  }
 ],
 "metadata": {
  "kernelspec": {
   "display_name": "Python 3",
   "language": "python",
   "name": "python3"
  },
  "language_info": {
   "codemirror_mode": {
    "name": "ipython",
    "version": 3
   },
   "file_extension": ".py",
   "mimetype": "text/x-python",
   "name": "python",
   "nbconvert_exporter": "python",
   "pygments_lexer": "ipython3",
   "version": "3.7.6"
  },
  "toc": {
   "base_numbering": 1,
   "nav_menu": {},
   "number_sections": true,
   "sideBar": true,
   "skip_h1_title": false,
   "title_cell": "Table of Contents",
   "title_sidebar": "Contents",
   "toc_cell": false,
   "toc_position": {},
   "toc_section_display": true,
   "toc_window_display": false
  },
  "varInspector": {
   "cols": {
    "lenName": 16,
    "lenType": 16,
    "lenVar": 40
   },
   "kernels_config": {
    "python": {
     "delete_cmd_postfix": "",
     "delete_cmd_prefix": "del ",
     "library": "var_list.py",
     "varRefreshCmd": "print(var_dic_list())"
    },
    "r": {
     "delete_cmd_postfix": ") ",
     "delete_cmd_prefix": "rm(",
     "library": "var_list.r",
     "varRefreshCmd": "cat(var_dic_list()) "
    }
   },
   "types_to_exclude": [
    "module",
    "function",
    "builtin_function_or_method",
    "instance",
    "_Feature"
   ],
   "window_display": false
  }
 },
 "nbformat": 4,
 "nbformat_minor": 4
}
