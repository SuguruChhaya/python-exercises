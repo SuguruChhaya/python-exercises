{
 "cells": [
  {
   "cell_type": "code",
   "execution_count": 56,
   "metadata": {},
   "outputs": [
    {
     "name": "stdout",
     "output_type": "stream",
     "text": [
      "[0, 6.283185307179586, 12.566370614359172, 18.84955592153876, 25.132741228718345]\n",
      "23.873241463784296\n"
     ]
    }
   ],
   "source": [
    "#The whole thing\n",
    "import math\n",
    "\n",
    "#First helper function\n",
    "def path_list_maker(which_comes_first, number_of_unshaded_and_shaded_stripes, length_of_each_unshaded_stripe, length_of_each_shaded_stripe):\n",
    "  \"\"\"\n",
    "  This helper function is for circular wheel of stripes question. This makes a list based on the given variables related to the path. \n",
    "  Changes to original:\n",
    "  1. We can set the number of shaded and unshaded stripes the same.\n",
    "  2. We should ask whether unshaded comes first or shaded comes first (0 for unshaded, 1 for shaded)\n",
    "  \"\"\"\n",
    "  new = [0]\n",
    "  current_unshaded_value = 0\n",
    "  current_shaded_value = 0\n",
    "  counter = number_of_unshaded_and_shaded_stripes\n",
    "  if which_comes_first == 0:\n",
    "    while counter > 0:\n",
    "      new = new + [current_unshaded_value + length_of_each_unshaded_stripe] \n",
    "      current_shaded_value = current_unshaded_value + length_of_each_unshaded_stripe\n",
    "      new = new + [current_shaded_value + length_of_each_shaded_stripe] \n",
    "      current_unshaded_value = current_shaded_value + length_of_each_shaded_stripe\n",
    "      counter = counter - 1\n",
    "  elif which_comes_first == 1:\n",
    "    while counter > 0:\n",
    "      new = new + [current_shaded_value + length_of_each_shaded_stripe]\n",
    "      current_unshaded_value = current_shaded_value + length_of_each_shaded_stripe\n",
    "      new = new + [current_unshaded_value + length_of_each_unshaded_stripe] \n",
    "      current_shaded_value = current_unshaded_value + length_of_each_unshaded_stripe\n",
    "      counter = counter - 1\n",
    "  return new\n",
    "\n",
    "## I think this helper could also return a value in which I can distinguish whether unshaded / shaded is first. To do this, I think it is a good idea to add str(which_comes_first) to the final new value so it is later identifiable by searching the [-1] index of the output. I can do it if I need it.\n",
    "\n",
    "def circle_list_maker(radius_of_circle, number_of_rotations, number_of_equal_pieces_in_circle):\n",
    "    circle_diameter = 2 * math.pi * float(radius_of_circle)\n",
    "    length_of_one_piece = circle_diameter / int(number_of_equal_pieces_in_circle)\n",
    "    total_pieces = int(number_of_equal_pieces_in_circle) * int(number_of_rotations)\n",
    "\n",
    "    new = [0]\n",
    "    counter = 0\n",
    "    current_location = 0\n",
    "    while counter < total_pieces:\n",
    "        new = new + [current_location + length_of_one_piece]\n",
    "        counter = counter + 1\n",
    "        current_location = current_location + length_of_one_piece\n",
    "    return new\n",
    "\n",
    "print(circle_list_maker(4, 1, 4))\n",
    "#For improvement, check the circle improvement file.\n",
    "\n",
    "\n",
    "\n",
    "def main_function(radius_of_circle, number_of_rotations, number_of_unshaded_and_shaded_stripes, path_which_comes_first, length_of_each_unshaded_stripe, length_of_each_shaded_stripe, number_of_equal_pieces_in_circle, circle_which_comes_first):\n",
    "  \"\"\"This question is question number 23 from  https://cemc.uwaterloo.ca/contests/past_contests/2019/2019PascalSolution.pdf. \n",
    "  The question:\n",
    "  A path of length 14 m consists of 7 unshaded stripes, each of length 1 m, alternating with 7 shaded stripes, each of length 1 m. A circular wheel of radius 2 m is divided into four quarters which are alternately shaded and unshaded. The wheel rolls at a constant speed along the path from the starting position shown.\n",
    "\n",
    "  Possible variables in the future:\n",
    "  1. The radius of the circle (the path length is not needed as long as 2 to 5 is given)\n",
    "  8. Number of circle rotations \n",
    "  2. Number of unshaded stripes\n",
    "  3. The length of each of the unshaded stripes\n",
    "  4. Number of shaded stripes\n",
    "  5. The length of each of the shaded stripes\n",
    "  6. How many equal pieces the circle is divided into \n",
    "  7. A list with 0 for not shaded, 1 for shaded, corresponding with the number of pieces the circle has\n",
    "\n",
    "  Strategies:\n",
    "  1. Calculate the circle diameter \n",
    "  2. Make a helper function which makes a list using the data given in variables 2 ~ 5\n",
    "  3. Make a helper function for the circles by making a list \n",
    "  \"\"\"\n",
    "\n",
    "  a = path_list_maker(path_which_comes_first, number_of_unshaded_and_shaded_stripes, length_of_each_unshaded_stripe, length_of_each_shaded_stripe)\n",
    "\n",
    "  b = circle_list_maker(radius_of_circle, number_of_rotations, number_of_equal_pieces_in_circle)\n",
    "\n",
    "  counter = 0\n",
    "\n",
    "  if path_which_comes_first == 0:\n",
    "    if circle_which_comes_first == 0:\n",
    "      for first in range(1, len(b)-1, 2):\n",
    "        for second in range(1, len(a)-1,2):\n",
    "          #Scenario 1, shaded path begins inside, ends after\n",
    "          if b[first] < a[second] < b[first + 1] and a[second + 1] > b[first + 1]:\n",
    "            counter = counter + (b[first + 1] - a[second])\n",
    "          #Scenario 2, shaded path begins before, ends inside\n",
    "          elif b[first] < a[second + 1] < b[first + 1] and a[second] < b[first]:\n",
    "            counter = counter + (a[second + 1] - b[first])\n",
    "          #Scenario 3, shaded path is inscribed on the shaded circumference \n",
    "          elif b[first] < a[second] < b[first + 1] and a[second + 1] < b[first + 1]:\n",
    "            counter = counter + (a[second + 1] - a[second])\n",
    "          #Scenario 4, the shaded path extends the shaded circumference on both sides \n",
    "          elif a[second] < b[first] and a[second + 1] > b[first + 1]:\n",
    "            counter = counter + (b[first + 1] - b[first])\n",
    "    elif circle_which_comes_first == 1:\n",
    "      for first in range(0, len(b)-1, 2):\n",
    "        for second in range(1, len(a)-1,2):\n",
    "          #Scenario 1, shaded path begins inside, ends after\n",
    "          if b[first] < a[second] < b[first + 1] and a[second + 1] > b[first + 1]:\n",
    "            counter = counter + (b[first + 1] - a[second])\n",
    "          #Scenario 2, shaded path begins before, ends inside\n",
    "          elif b[first] < a[second + 1] < b[first + 1] and a[second] < b[first]:\n",
    "            counter = counter + (a[second + 1] - b[first])\n",
    "          #Scenario 3, shaded path is inscribed on the shaded circumference \n",
    "          elif b[first] < a[second] < b[first + 1] and a[second + 1] < b[first + 1]:\n",
    "            counter = counter + (a[second + 1] - a[second])\n",
    "          #Scenario 4, the shaded path extends the shaded circumference on both sides \n",
    "          elif a[second] < b[first] and a[second + 1] > b[first + 1]:\n",
    "            counter = counter + (b[first + 1] - b[first])\n",
    "      \n",
    "  elif path_which_comes_first == 1:\n",
    "    if circle_which_comes_first == 0:\n",
    "      for first in range(1, len(b)-1, 2):\n",
    "        for second in range(0, len(a)-1,2):\n",
    "          #Scenario 1, shaded path begins inside, ends after\n",
    "          if b[first] < a[second] < b[first + 1] and a[second + 1] > b[first + 1]:\n",
    "            counter = counter + (b[first + 1] - a[second])\n",
    "          #Scenario 2, shaded path begins before, ends inside\n",
    "          elif b[first] < a[second + 1] < b[first + 1] and a[second] < b[first]:\n",
    "            counter = counter + (a[second + 1] - b[first])\n",
    "          #Scenario 3, shaded path is inscribed on the shaded circumference \n",
    "          elif b[first] < a[second] < b[first + 1] and a[second + 1] < b[first + 1]:\n",
    "            counter = counter + (a[second + 1] - a[second])\n",
    "          #Scenario 4, the shaded path extends the shaded circumference on both sides \n",
    "          elif a[second] < b[first] and a[second + 1] > b[first + 1]:\n",
    "            counter = counter + (b[first + 1] - b[first])\n",
    "    elif circle_which_comes_first == 1:\n",
    "      for first in range(0, len(b)-1, 2):\n",
    "        for second in range(0, len(a)-1,2):\n",
    "          #Scenario 1, shaded path begins inside, ends after\n",
    "          if b[first] < a[second] < b[first + 1] and a[second + 1] > b[first + 1]:\n",
    "            counter = counter + (b[first + 1] - a[second])\n",
    "          #Scenario 2, shaded path begins before, ends inside\n",
    "          elif b[first] < a[second + 1] < b[first + 1] and a[second] < b[first]:\n",
    "            counter = counter + (a[second + 1] - b[first])\n",
    "          #Scenario 3, shaded path is inscribed on the shaded circumference \n",
    "          elif b[first] < a[second] < b[first + 1] and a[second + 1] < b[first + 1]:\n",
    "            counter = counter + (a[second + 1] - a[second])\n",
    "          #Scenario 4, the shaded path extends the shaded circumference on both sides \n",
    "          elif a[second] < b[first] and a[second + 1] > b[first + 1]:\n",
    "            counter = counter + (b[first + 1] - b[first])\n",
    "  \n",
    "  total_circumference = 2 * math.pi * radius_of_circle * number_of_rotations\n",
    "  return counter / total_circumference * 100\n",
    "\n",
    "print(main_function(5, 2, 11, 0, 3, 3, 4, 1))\n",
    "\n",
    "#main_function(radius_of_circle, number_of_rotations, number_of_unshaded_and_shaded_stripes, path_which_comes_first, length_of_each_unshaded_stripe, length_of_each_shaded_stripe, number_of_equal_pieces_in_circle, circle_which_comes_first\n",
    "\n",
    "#path_list_maker(which_comes_first, number_of_unshaded_and_shaded_stripes, length_of_each_unshaded_stripe, length_of_each_shaded_stripe\n",
    "\n",
    "#circle_list_maker(radius_of_circle, number_of_rotations, number_of_equal_pieces_in_circle\n",
    "\n",
    "\n"
   ]
  },
  {
   "cell_type": "code",
   "execution_count": 1,
   "metadata": {},
   "outputs": [
    {
     "name": "stdout",
     "output_type": "stream",
     "text": [
      "[1, 2, 2]\n"
     ]
    }
   ],
   "source": [
    "import math\n",
    "def circle_list_maker(radius, rotations, pieces, seq):\n",
    "    diameter = 2 * math.pi * float(radius)\n",
    "    one_piece = diameter / int(pieces)\n",
    "    total_pieces = int(pieces) * int(rotations)\n",
    "    seq = seq * int(rotations)\n",
    "    \n",
    "    seq2 = []\n",
    "    last = \"a\"\n",
    "    count = 0\n",
    "    while count < len(seq) - 1:\n",
    "        counter = 1\n",
    "        while seq[count] == last:\n",
    "            counter = counter + 1\n",
    "            last = seq[count]\n",
    "            count = count + 1\n",
    "            seq2 = seq2 + [counter]\n",
    "        last = seq[count]\n",
    "        seq2 = seq2 + [counter]\n",
    "        count = count + 1\n",
    "    return seq2\n",
    "\n",
    "print(circle_list_maker(3,1,4,[0,0,1,1]))\n",
    "    \n",
    "    "
   ]
  },
  {
   "cell_type": "code",
   "execution_count": 2,
   "metadata": {},
   "outputs": [],
   "source": [
    "import math\n",
    "def circle_list_maker(radius_of_circle, number_of_rotations, number_of_equal_pieces_in_circle, list_of_shaded_and_unshaded_of_circle_pieces):\n",
    "  \"\"\"This helper function is for circular wheel of stripes question. This outputs a list of the locations where unshaded and shaded areas exchange. \n",
    "  \"\"\"\n",
    "  circle_diameter = 2 * math.pi * float(radius_of_circle)\n",
    "  length_of_one_piece = circle_diameter / int(number_of_equal_pieces_in_circle)\n",
    "  total_pieces = int(number_of_equal_pieces_in_circle) * int(number_of_rotations)\n",
    "  list_of_shaded_and_unshaded_of_circle_pieces = list_of_shaded_and_unshaded_of_circle_pieces * int(number_of_rotations)\n",
    "\n",
    "  if len(list_of_shaded_and_unshaded_of_circle_pieces) == number_of_equal_pieces_in_circle:\n",
    "    new = [0]\n",
    "    counter = 1\n",
    "    current_position = 0\n",
    "    for item in list_of_shaded_and_unshaded_of_circle_pieces:\n",
    "      while list_of_shaded_and_unshaded_of_circle_pieces[counter] == list_of_shaded_and_unshaded_of_circle_pieces[counter + 1]:\n",
    "        counter = counter + 1\n",
    "      new = new + [current_position + counter * length_of_one_piece]\n",
    "      current_position = current_position + counter * length_of_one_piece\n",
    "\n",
    "    return new\n",
    "  else:\n",
    "    return \"Enter correct number of items in list\""
   ]
  },
  {
   "cell_type": "code",
   "execution_count": 3,
   "metadata": {},
   "outputs": [
    {
     "name": "stdout",
     "output_type": "stream",
     "text": [
      "[2]\n"
     ]
    }
   ],
   "source": [
    "import math\n",
    "def circle_list_maker(radius, rotations, pieces, seq):\n",
    "    diameter = 2 * math.pi * float(radius)\n",
    "    one_piece = diameter / int(rotations)\n",
    "    total_pieces = int(pieces) * int(rotations)\n",
    "    seq = seq * int(rotations)\n",
    "    \n",
    "    seq2 = []\n",
    "    count = 1\n",
    "    counter = 1\n",
    "    while count < len(seq) - 1:\n",
    "        while seq[count] == seq[count - 1]:\n",
    "            counter = counter + 1\n",
    "            count = count + 1\n",
    "        seq2 = seq2 + [counter]\n",
    "        count = count + 1\n",
    "        counter = 1\n",
    "    return seq2\n",
    "        \n",
    "print(circle_list_maker(3,1,4,[0,0,1,1]))"
   ]
  },
  {
   "cell_type": "code",
   "execution_count": 10,
   "metadata": {},
   "outputs": [
    {
     "name": "stdout",
     "output_type": "stream",
     "text": [
      "<class 'str'>\n",
      "[[0, 0], [1, 1], [0], [1, 1, 1, 1, 1], [0, 0, 0]]\n"
     ]
    }
   ],
   "source": [
    "import math\n",
    "def circle_list_divider(radius, rotations, pieces, seq):\n",
    "    total_pieces = int(pieces) * int(rotations)\n",
    "    seq = seq * int(rotations)\n",
    "    seq2 = [\"a\"]\n",
    "    print(type(seq2[-1]))\n",
    "    seq3 = []\n",
    "    while len(seq) > 0:\n",
    "        if seq[0] == seq2[-1]:\n",
    "            seq2 = seq2 + [seq[0]]\n",
    "            seq = seq[1:]\n",
    "        else:\n",
    "            seq3 = seq3 + [seq2]\n",
    "            seq2 = [seq[0]]\n",
    "            seq = seq[1:]\n",
    "    return seq3[1:] + [seq2]\n",
    "\n",
    "print(circle_list_divider(3,1,4,[0,0,1,1,0,1,1,1,1,1,0,0,0]))"
   ]
  },
  {
   "cell_type": "code",
   "execution_count": 4,
   "metadata": {},
   "outputs": [
    {
     "name": "stdout",
     "output_type": "stream",
     "text": [
      "[2, 2, 1, 5, 3]\n"
     ]
    }
   ],
   "source": [
    "def circle_list_organizer(list_in_list):\n",
    "    new = []\n",
    "    for many in list_in_list:\n",
    "        new = new + [len(many)]\n",
    "    return new\n",
    "\n",
    "print(circle_list_organizer([[0, 0], [1, 1], [0], [1, 1, 1, 1, 1], [0, 0, 0]]))"
   ]
  },
  {
   "cell_type": "code",
   "execution_count": 25,
   "metadata": {},
   "outputs": [
    {
     "ename": "IndexError",
     "evalue": "list index out of range",
     "output_type": "error",
     "traceback": [
      "\u001b[1;31m---------------------------------------------------------------------------\u001b[0m",
      "\u001b[1;31mIndexError\u001b[0m                                Traceback (most recent call last)",
      "\u001b[1;32m<ipython-input-25-3fa4f2f52966>\u001b[0m in \u001b[0;36m<module>\u001b[1;34m\u001b[0m\n\u001b[0;32m     14\u001b[0m     \u001b[1;32mreturn\u001b[0m \u001b[0mnew\u001b[0m\u001b[1;33m\u001b[0m\u001b[1;33m\u001b[0m\u001b[0m\n\u001b[0;32m     15\u001b[0m \u001b[1;33m\u001b[0m\u001b[0m\n\u001b[1;32m---> 16\u001b[1;33m \u001b[0mprint\u001b[0m\u001b[1;33m(\u001b[0m\u001b[0mcircle_list_maker\u001b[0m\u001b[1;33m(\u001b[0m\u001b[1;36m3\u001b[0m\u001b[1;33m,\u001b[0m \u001b[1;36m1\u001b[0m\u001b[1;33m,\u001b[0m \u001b[1;36m12\u001b[0m\u001b[1;33m,\u001b[0m \u001b[1;33m[\u001b[0m\u001b[1;36m2\u001b[0m\u001b[1;33m,\u001b[0m \u001b[1;36m2\u001b[0m\u001b[1;33m,\u001b[0m \u001b[1;36m1\u001b[0m\u001b[1;33m,\u001b[0m \u001b[1;36m5\u001b[0m\u001b[1;33m,\u001b[0m \u001b[1;36m3\u001b[0m\u001b[1;33m]\u001b[0m\u001b[1;33m)\u001b[0m\u001b[1;33m)\u001b[0m\u001b[1;33m\u001b[0m\u001b[1;33m\u001b[0m\u001b[0m\n\u001b[0m\u001b[0;32m     17\u001b[0m \u001b[1;33m\u001b[0m\u001b[0m\n\u001b[0;32m     18\u001b[0m \u001b[1;33m\u001b[0m\u001b[0m\n",
      "\u001b[1;32m<ipython-input-25-3fa4f2f52966>\u001b[0m in \u001b[0;36mcircle_list_maker\u001b[1;34m(radius, rotations, pieces, organized_list)\u001b[0m\n\u001b[0;32m      8\u001b[0m     \u001b[0mcurrent_location\u001b[0m \u001b[1;33m=\u001b[0m \u001b[1;36m0\u001b[0m\u001b[1;33m\u001b[0m\u001b[1;33m\u001b[0m\u001b[0m\n\u001b[0;32m      9\u001b[0m     \u001b[1;32mwhile\u001b[0m \u001b[0mcounter\u001b[0m \u001b[1;33m<\u001b[0m \u001b[0mtotal_pieces\u001b[0m\u001b[1;33m:\u001b[0m\u001b[1;33m\u001b[0m\u001b[1;33m\u001b[0m\u001b[0m\n\u001b[1;32m---> 10\u001b[1;33m         \u001b[0mnew\u001b[0m \u001b[1;33m=\u001b[0m \u001b[0mnew\u001b[0m \u001b[1;33m+\u001b[0m \u001b[1;33m[\u001b[0m\u001b[0mcurrent_location\u001b[0m \u001b[1;33m+\u001b[0m \u001b[0mone_piece\u001b[0m \u001b[1;33m*\u001b[0m \u001b[0morganized_list\u001b[0m\u001b[1;33m[\u001b[0m\u001b[0mcounter\u001b[0m\u001b[1;33m]\u001b[0m\u001b[1;33m]\u001b[0m\u001b[1;33m\u001b[0m\u001b[1;33m\u001b[0m\u001b[0m\n\u001b[0m\u001b[0;32m     11\u001b[0m         \u001b[0mcurrent_location\u001b[0m \u001b[1;33m=\u001b[0m \u001b[0mcurrent_location\u001b[0m \u001b[1;33m+\u001b[0m \u001b[0mone_piece\u001b[0m \u001b[1;33m*\u001b[0m \u001b[0morganized_list\u001b[0m\u001b[1;33m[\u001b[0m\u001b[0mcounter\u001b[0m\u001b[1;33m]\u001b[0m\u001b[1;33m\u001b[0m\u001b[1;33m\u001b[0m\u001b[0m\n\u001b[0;32m     12\u001b[0m         \u001b[0mcounter\u001b[0m \u001b[1;33m=\u001b[0m \u001b[0mcounter\u001b[0m \u001b[1;33m+\u001b[0m \u001b[1;36m1\u001b[0m\u001b[1;33m\u001b[0m\u001b[1;33m\u001b[0m\u001b[0m\n",
      "\u001b[1;31mIndexError\u001b[0m: list index out of range"
     ]
    }
   ],
   "source": [
    "def circle_list_maker(radius ,rotations, pieces, organized_list):\n",
    "    diameter = 2 * math.pi * float(radius)\n",
    "    one_piece = diameter / int(pieces)\n",
    "    total_pieces = int(pieces) * int(rotations)\n",
    "    \n",
    "    new = [0]\n",
    "    counter = 0\n",
    "    current_location = 0\n",
    "    while counter < total_pieces:\n",
    "        new = new + [current_location + one_piece * organized_list[counter]]\n",
    "        current_location = current_location + one_piece * organized_list[counter]\n",
    "        counter = counter + 1\n",
    "\n",
    "    return new\n",
    "\n",
    "print(circle_list_maker(3, 1, 12, [2, 2, 1, 5, 3]))\n",
    "    \n",
    "    \n",
    "    \n",
    "    "
   ]
  },
  {
   "cell_type": "code",
   "execution_count": null,
   "metadata": {},
   "outputs": [],
   "source": [
    "def circle_list_make(radius_of_circle, number_of_rotations, number_of_equal_pieces_in_circle):\n",
    "    circle_diameter = 2 * math.pi * float(radius_of_circle)\n",
    "    length_of_one_piece = circle_diameter / int(number_of_equal_pieces_in_circle)\n",
    "    total_pieces = int(number_of_equal_pieces_in_circle) * int(number_of_rotations)\n",
    "\n",
    "    new = [0]\n",
    "    counter = 0\n",
    "    current_location = 0\n",
    "    while counter < total_pieces:\n",
    "        new = new + [current_location + length_of_one_piece]\n",
    "        counter = counter + 1\n",
    "        current_location = current_location + length_of_one_piece\n",
    "    return new"
   ]
  }
 ],
 "metadata": {
  "kernelspec": {
   "display_name": "Python 3",
   "language": "python",
   "name": "python3"
  },
  "language_info": {
   "codemirror_mode": {
    "name": "ipython",
    "version": 3
   },
   "file_extension": ".py",
   "mimetype": "text/x-python",
   "name": "python",
   "nbconvert_exporter": "python",
   "pygments_lexer": "ipython3",
   "version": "3.7.6"
  },
  "toc": {
   "base_numbering": 1,
   "nav_menu": {},
   "number_sections": true,
   "sideBar": true,
   "skip_h1_title": false,
   "title_cell": "Table of Contents",
   "title_sidebar": "Contents",
   "toc_cell": false,
   "toc_position": {},
   "toc_section_display": true,
   "toc_window_display": false
  },
  "varInspector": {
   "cols": {
    "lenName": 16,
    "lenType": 16,
    "lenVar": 40
   },
   "kernels_config": {
    "python": {
     "delete_cmd_postfix": "",
     "delete_cmd_prefix": "del ",
     "library": "var_list.py",
     "varRefreshCmd": "print(var_dic_list())"
    },
    "r": {
     "delete_cmd_postfix": ") ",
     "delete_cmd_prefix": "rm(",
     "library": "var_list.r",
     "varRefreshCmd": "cat(var_dic_list()) "
    }
   },
   "types_to_exclude": [
    "module",
    "function",
    "builtin_function_or_method",
    "instance",
    "_Feature"
   ],
   "window_display": false
  }
 },
 "nbformat": 4,
 "nbformat_minor": 4
}
